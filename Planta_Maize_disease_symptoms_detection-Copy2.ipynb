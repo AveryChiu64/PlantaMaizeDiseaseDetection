{
 "cells": [
  {
   "cell_type": "markdown",
   "metadata": {
    "colab_type": "text",
    "id": "view-in-github"
   },
   "source": [
    "<a href=\"https://colab.research.google.com/github/Musbell/Planta---Maize-disease-symptoms-detection/blob/master/Planta_Maize_disease_symptoms_detection.ipynb\" target=\"_parent\"><img src=\"https://colab.research.google.com/assets/colab-badge.svg\" alt=\"Open In Colab\"/></a>"
   ]
  },
  {
   "cell_type": "code",
   "execution_count": 1,
   "metadata": {
    "colab": {
     "base_uri": "https://localhost:8080/",
     "height": 306
    },
    "colab_type": "code",
    "id": "Ek5eEI5D532y",
    "outputId": "ac06deba-011d-4443-8489-e2088544e46e"
   },
   "outputs": [
    {
     "name": "stdout",
     "output_type": "stream",
     "text": [
      "Thu Jul  1 13:58:21 2021       \n",
      "+-----------------------------------------------------------------------------+\n",
      "| NVIDIA-SMI 460.80       Driver Version: 460.80       CUDA Version: 11.2     |\n",
      "|-------------------------------+----------------------+----------------------+\n",
      "| GPU  Name        Persistence-M| Bus-Id        Disp.A | Volatile Uncorr. ECC |\n",
      "| Fan  Temp  Perf  Pwr:Usage/Cap|         Memory-Usage | GPU-Util  Compute M. |\n",
      "|                               |                      |               MIG M. |\n",
      "|===============================+======================+======================|\n",
      "|   0  GeForce GTX 960     Off  | 00000000:01:00.0  On |                  N/A |\n",
      "| 31%   45C    P5    11W / 120W |    555MiB /  1999MiB |      0%      Default |\n",
      "|                               |                      |                  N/A |\n",
      "+-------------------------------+----------------------+----------------------+\n",
      "                                                                               \n",
      "+-----------------------------------------------------------------------------+\n",
      "| Processes:                                                                  |\n",
      "|  GPU   GI   CI        PID   Type   Process name                  GPU Memory |\n",
      "|        ID   ID                                                   Usage      |\n",
      "|=============================================================================|\n",
      "|    0   N/A  N/A      1051      G   /usr/lib/xorg/Xorg                 54MiB |\n",
      "|    0   N/A  N/A      1579      G   /usr/lib/xorg/Xorg                233MiB |\n",
      "|    0   N/A  N/A      1709      G   /usr/bin/gnome-shell               44MiB |\n",
      "|    0   N/A  N/A      3051      G   ...AAAAAAAAA= --shared-files      155MiB |\n",
      "|    0   N/A  N/A     10034      G   .../debug.log --shared-files       22MiB |\n",
      "|    0   N/A  N/A     32693      G   ...AAAAAAAAA= --shared-files       28MiB |\n",
      "+-----------------------------------------------------------------------------+\n"
     ]
    }
   ],
   "source": [
    "!nvidia-smi"
   ]
  },
  {
   "cell_type": "code",
   "execution_count": 9,
   "metadata": {
    "colab": {
     "base_uri": "https://localhost:8080/",
     "height": 513
    },
    "colab_type": "code",
    "id": "w3IjFYKkF7mP",
    "outputId": "e4ec85ae-ca15-4a2f-cdd9-c6c9cddde3e8"
   },
   "outputs": [
    {
     "name": "stdout",
     "output_type": "stream",
     "text": [
      "\n",
      "Usage:   \n",
      "  pip uninstall [options] <package> ...\n",
      "  pip uninstall [options] -r <requirements file> ...\n",
      "\n",
      "no such option: -f\n"
     ]
    }
   ],
   "source": [
    "# install detectron2:\n",
    "# !pip install detectron2 -f https://dl.fbaipublicfiles.com/detectron2/wheels/cu100/index.html\\\n",
    "# !pip install detectron2 -f \\https://dl.fbaipublicfiles.com/detectron2/wheels/cu111/torch1.8/index.html\n"
   ]
  },
  {
   "cell_type": "code",
   "execution_count": 3,
   "metadata": {
    "colab": {
     "base_uri": "https://localhost:8080/",
     "height": 632
    },
    "colab_type": "code",
    "id": "esWMxNfPxdkq",
    "outputId": "f689a6d7-75d7-4d01-b254-0da142b7dc66"
   },
   "outputs": [],
   "source": [
    "# install dependencies: (use cu100 because colab is on CUDA 10.0)\n",
    "#pip install -U torch torchvision\n",
    "#pip install cython pyyaml==5.1\n",
    "#!pip install -U 'git+https://github.com/cocodataset/cocoapi.git#subdirectory=PythonAPI'\n",
    "\n",
    "# opencv is pre-installed on colab"
   ]
  },
  {
   "cell_type": "code",
   "execution_count": 4,
   "metadata": {
    "colab": {
     "base_uri": "https://localhost:8080/",
     "height": 156
    },
    "colab_type": "code",
    "id": "RbvTKpnfAOKy",
    "outputId": "a9ced6e2-79de-4358-e8a8-1b3b3fddd269"
   },
   "outputs": [],
   "source": [
    "#!pip install onnx\n",
    "#!pip install mock"
   ]
  },
  {
   "cell_type": "code",
   "execution_count": 5,
   "metadata": {
    "colab": {},
    "colab_type": "code",
    "id": "f16S-5sMIINC"
   },
   "outputs": [],
   "source": [
    "#!pip install -q -U watermark\n",
    "#!pip install seaborn"
   ]
  },
  {
   "cell_type": "code",
   "execution_count": 6,
   "metadata": {
    "colab": {
     "base_uri": "https://localhost:8080/",
     "height": 170
    },
    "colab_type": "code",
    "id": "yvQoBq3vIS3W",
    "outputId": "e849b898-92ff-458d-cb28-a2ade3631c88"
   },
   "outputs": [
    {
     "name": "stdout",
     "output_type": "stream",
     "text": [
      "Python implementation: CPython\n",
      "Python version       : 3.8.10\n",
      "IPython version      : 7.22.0\n",
      "\n",
      "numpy      : 1.20.2\n",
      "pandas     : 1.2.5\n",
      "pycocotools: 2.0.2\n",
      "torch      : 1.8.0\n",
      "torchvision: 0.9.0\n",
      "detectron2 : 0.4.1\n",
      "\n"
     ]
    }
   ],
   "source": [
    "%reload_ext watermark\n",
    "%watermark -v -p numpy,pandas,pycocotools,torch,torchvision,detectron2"
   ]
  },
  {
   "cell_type": "code",
   "execution_count": 8,
   "metadata": {
    "colab": {
     "base_uri": "https://localhost:8080/",
     "height": 119
    },
    "colab_type": "code",
    "id": "Hh_Kp8pYwaEG",
    "outputId": "89b39b0d-8083-4c09-a002-6b777bc2b34c"
   },
   "outputs": [
    {
     "ename": "ImportError",
     "evalue": "/home/avery/anaconda3/envs/planta_maize/lib/python3.8/site-packages/detectron2/_C.cpython-38-x86_64-linux-gnu.so: undefined symbol: _ZN6caffe28TypeMeta21_typeMetaDataInstanceIN3c107complexIfEEEEPKNS_6detail12TypeMetaDataEv",
     "output_type": "error",
     "traceback": [
      "\u001b[0;31m---------------------------------------------------------------------------\u001b[0m",
      "\u001b[0;31mImportError\u001b[0m                               Traceback (most recent call last)",
      "\u001b[0;32m<ipython-input-8-8a97feee87bf>\u001b[0m in \u001b[0;36m<module>\u001b[0;34m\u001b[0m\n\u001b[1;32m      2\u001b[0m \u001b[0;32mimport\u001b[0m \u001b[0mdetectron2\u001b[0m\u001b[0;34m\u001b[0m\u001b[0;34m\u001b[0m\u001b[0m\n\u001b[1;32m      3\u001b[0m \u001b[0;32mfrom\u001b[0m \u001b[0mdetectron2\u001b[0m\u001b[0;34m.\u001b[0m\u001b[0mutils\u001b[0m\u001b[0;34m.\u001b[0m\u001b[0mlogger\u001b[0m \u001b[0;32mimport\u001b[0m \u001b[0msetup_logger\u001b[0m\u001b[0;34m\u001b[0m\u001b[0;34m\u001b[0m\u001b[0m\n\u001b[0;32m----> 4\u001b[0;31m \u001b[0;32mfrom\u001b[0m \u001b[0mdetectron2\u001b[0m \u001b[0;32mimport\u001b[0m \u001b[0mmodel_zoo\u001b[0m\u001b[0;34m\u001b[0m\u001b[0;34m\u001b[0m\u001b[0m\n\u001b[0m\u001b[1;32m      5\u001b[0m \u001b[0msetup_logger\u001b[0m\u001b[0;34m(\u001b[0m\u001b[0;34m)\u001b[0m\u001b[0;34m\u001b[0m\u001b[0;34m\u001b[0m\u001b[0m\n\u001b[1;32m      6\u001b[0m \u001b[0;34m\u001b[0m\u001b[0m\n",
      "\u001b[0;32m~/anaconda3/envs/planta_maize/lib/python3.8/site-packages/detectron2/model_zoo/__init__.py\u001b[0m in \u001b[0;36m<module>\u001b[0;34m\u001b[0m\n\u001b[1;32m      6\u001b[0m \"\"\"\n\u001b[1;32m      7\u001b[0m \u001b[0;34m\u001b[0m\u001b[0m\n\u001b[0;32m----> 8\u001b[0;31m \u001b[0;32mfrom\u001b[0m \u001b[0;34m.\u001b[0m\u001b[0mmodel_zoo\u001b[0m \u001b[0;32mimport\u001b[0m \u001b[0mget\u001b[0m\u001b[0;34m,\u001b[0m \u001b[0mget_config_file\u001b[0m\u001b[0;34m,\u001b[0m \u001b[0mget_checkpoint_url\u001b[0m\u001b[0;34m,\u001b[0m \u001b[0mget_config\u001b[0m\u001b[0;34m\u001b[0m\u001b[0;34m\u001b[0m\u001b[0m\n\u001b[0m\u001b[1;32m      9\u001b[0m \u001b[0;34m\u001b[0m\u001b[0m\n\u001b[1;32m     10\u001b[0m \u001b[0m__all__\u001b[0m \u001b[0;34m=\u001b[0m \u001b[0;34m[\u001b[0m\u001b[0;34m\"get_checkpoint_url\"\u001b[0m\u001b[0;34m,\u001b[0m \u001b[0;34m\"get\"\u001b[0m\u001b[0;34m,\u001b[0m \u001b[0;34m\"get_config_file\"\u001b[0m\u001b[0;34m,\u001b[0m \u001b[0;34m\"get_config\"\u001b[0m\u001b[0;34m]\u001b[0m\u001b[0;34m\u001b[0m\u001b[0;34m\u001b[0m\u001b[0m\n",
      "\u001b[0;32m~/anaconda3/envs/planta_maize/lib/python3.8/site-packages/detectron2/model_zoo/model_zoo.py\u001b[0m in \u001b[0;36m<module>\u001b[0;34m\u001b[0m\n\u001b[1;32m      7\u001b[0m \u001b[0;32mfrom\u001b[0m \u001b[0mdetectron2\u001b[0m\u001b[0;34m.\u001b[0m\u001b[0mcheckpoint\u001b[0m \u001b[0;32mimport\u001b[0m \u001b[0mDetectionCheckpointer\u001b[0m\u001b[0;34m\u001b[0m\u001b[0;34m\u001b[0m\u001b[0m\n\u001b[1;32m      8\u001b[0m \u001b[0;32mfrom\u001b[0m \u001b[0mdetectron2\u001b[0m\u001b[0;34m.\u001b[0m\u001b[0mconfig\u001b[0m \u001b[0;32mimport\u001b[0m \u001b[0mCfgNode\u001b[0m\u001b[0;34m,\u001b[0m \u001b[0mLazyConfig\u001b[0m\u001b[0;34m,\u001b[0m \u001b[0mget_cfg\u001b[0m\u001b[0;34m,\u001b[0m \u001b[0minstantiate\u001b[0m\u001b[0;34m\u001b[0m\u001b[0;34m\u001b[0m\u001b[0m\n\u001b[0;32m----> 9\u001b[0;31m \u001b[0;32mfrom\u001b[0m \u001b[0mdetectron2\u001b[0m\u001b[0;34m.\u001b[0m\u001b[0mmodeling\u001b[0m \u001b[0;32mimport\u001b[0m \u001b[0mbuild_model\u001b[0m\u001b[0;34m\u001b[0m\u001b[0;34m\u001b[0m\u001b[0m\n\u001b[0m\u001b[1;32m     10\u001b[0m \u001b[0;34m\u001b[0m\u001b[0m\n\u001b[1;32m     11\u001b[0m \u001b[0;34m\u001b[0m\u001b[0m\n",
      "\u001b[0;32m~/anaconda3/envs/planta_maize/lib/python3.8/site-packages/detectron2/modeling/__init__.py\u001b[0m in \u001b[0;36m<module>\u001b[0;34m\u001b[0m\n\u001b[1;32m      1\u001b[0m \u001b[0;31m# Copyright (c) Facebook, Inc. and its affiliates.\u001b[0m\u001b[0;34m\u001b[0m\u001b[0;34m\u001b[0m\u001b[0;34m\u001b[0m\u001b[0m\n\u001b[0;32m----> 2\u001b[0;31m \u001b[0;32mfrom\u001b[0m \u001b[0mdetectron2\u001b[0m\u001b[0;34m.\u001b[0m\u001b[0mlayers\u001b[0m \u001b[0;32mimport\u001b[0m \u001b[0mShapeSpec\u001b[0m\u001b[0;34m\u001b[0m\u001b[0;34m\u001b[0m\u001b[0m\n\u001b[0m\u001b[1;32m      3\u001b[0m \u001b[0;34m\u001b[0m\u001b[0m\n\u001b[1;32m      4\u001b[0m \u001b[0;32mfrom\u001b[0m \u001b[0;34m.\u001b[0m\u001b[0manchor_generator\u001b[0m \u001b[0;32mimport\u001b[0m \u001b[0mbuild_anchor_generator\u001b[0m\u001b[0;34m,\u001b[0m \u001b[0mANCHOR_GENERATOR_REGISTRY\u001b[0m\u001b[0;34m\u001b[0m\u001b[0;34m\u001b[0m\u001b[0m\n\u001b[1;32m      5\u001b[0m from .backbone import (\n",
      "\u001b[0;32m~/anaconda3/envs/planta_maize/lib/python3.8/site-packages/detectron2/layers/__init__.py\u001b[0m in \u001b[0;36m<module>\u001b[0;34m\u001b[0m\n\u001b[1;32m      1\u001b[0m \u001b[0;31m# Copyright (c) Facebook, Inc. and its affiliates.\u001b[0m\u001b[0;34m\u001b[0m\u001b[0;34m\u001b[0m\u001b[0;34m\u001b[0m\u001b[0m\n\u001b[1;32m      2\u001b[0m \u001b[0;32mfrom\u001b[0m \u001b[0;34m.\u001b[0m\u001b[0mbatch_norm\u001b[0m \u001b[0;32mimport\u001b[0m \u001b[0mFrozenBatchNorm2d\u001b[0m\u001b[0;34m,\u001b[0m \u001b[0mget_norm\u001b[0m\u001b[0;34m,\u001b[0m \u001b[0mNaiveSyncBatchNorm\u001b[0m\u001b[0;34m\u001b[0m\u001b[0;34m\u001b[0m\u001b[0m\n\u001b[0;32m----> 3\u001b[0;31m \u001b[0;32mfrom\u001b[0m \u001b[0;34m.\u001b[0m\u001b[0mdeform_conv\u001b[0m \u001b[0;32mimport\u001b[0m \u001b[0mDeformConv\u001b[0m\u001b[0;34m,\u001b[0m \u001b[0mModulatedDeformConv\u001b[0m\u001b[0;34m\u001b[0m\u001b[0;34m\u001b[0m\u001b[0m\n\u001b[0m\u001b[1;32m      4\u001b[0m \u001b[0;32mfrom\u001b[0m \u001b[0;34m.\u001b[0m\u001b[0mmask_ops\u001b[0m \u001b[0;32mimport\u001b[0m \u001b[0mpaste_masks_in_image\u001b[0m\u001b[0;34m\u001b[0m\u001b[0;34m\u001b[0m\u001b[0m\n\u001b[1;32m      5\u001b[0m \u001b[0;32mfrom\u001b[0m \u001b[0;34m.\u001b[0m\u001b[0mnms\u001b[0m \u001b[0;32mimport\u001b[0m \u001b[0mbatched_nms\u001b[0m\u001b[0;34m,\u001b[0m \u001b[0mbatched_nms_rotated\u001b[0m\u001b[0;34m,\u001b[0m \u001b[0mnms\u001b[0m\u001b[0;34m,\u001b[0m \u001b[0mnms_rotated\u001b[0m\u001b[0;34m\u001b[0m\u001b[0;34m\u001b[0m\u001b[0m\n",
      "\u001b[0;32m~/anaconda3/envs/planta_maize/lib/python3.8/site-packages/detectron2/layers/deform_conv.py\u001b[0m in \u001b[0;36m<module>\u001b[0;34m\u001b[0m\n\u001b[1;32m      9\u001b[0m \u001b[0;32mfrom\u001b[0m \u001b[0mtorchvision\u001b[0m\u001b[0;34m.\u001b[0m\u001b[0mops\u001b[0m \u001b[0;32mimport\u001b[0m \u001b[0mdeform_conv2d\u001b[0m\u001b[0;34m\u001b[0m\u001b[0;34m\u001b[0m\u001b[0m\n\u001b[1;32m     10\u001b[0m \u001b[0;34m\u001b[0m\u001b[0m\n\u001b[0;32m---> 11\u001b[0;31m \u001b[0;32mfrom\u001b[0m \u001b[0mdetectron2\u001b[0m \u001b[0;32mimport\u001b[0m \u001b[0m_C\u001b[0m\u001b[0;34m\u001b[0m\u001b[0;34m\u001b[0m\u001b[0m\n\u001b[0m\u001b[1;32m     12\u001b[0m \u001b[0;34m\u001b[0m\u001b[0m\n\u001b[1;32m     13\u001b[0m \u001b[0;32mfrom\u001b[0m \u001b[0;34m.\u001b[0m\u001b[0mwrappers\u001b[0m \u001b[0;32mimport\u001b[0m \u001b[0m_NewEmptyTensorOp\u001b[0m\u001b[0;34m\u001b[0m\u001b[0;34m\u001b[0m\u001b[0m\n",
      "\u001b[0;31mImportError\u001b[0m: /home/avery/anaconda3/envs/planta_maize/lib/python3.8/site-packages/detectron2/_C.cpython-38-x86_64-linux-gnu.so: undefined symbol: _ZN6caffe28TypeMeta21_typeMetaDataInstanceIN3c107complexIfEEEEPKNS_6detail12TypeMetaDataEv"
     ]
    }
   ],
   "source": [
    "import torch, torchvision\n",
    "import detectron2\n",
    "from detectron2.utils.logger import setup_logger\n",
    "from detectron2 import model_zoo\n",
    "setup_logger()\n",
    "\n",
    "import onnx\n",
    "from unittest.mock import MagicMock\n",
    "\n",
    "import glob\n",
    "\n",
    "import os\n",
    "import ntpath\n",
    "import numpy as np\n",
    "import cv2\n",
    "import random\n",
    "import itertools\n",
    "import pandas as pd\n",
    "from tqdm import tqdm\n",
    "import urllib\n",
    "import json\n",
    "import PIL.Image as Image\n",
    "\n",
    "\n",
    "from detectron2.engine import DefaultPredictor, DefaultTrainer\n",
    "from detectron2.config import get_cfg\n",
    "from detectron2.utils.visualizer import Visualizer, ColorMode\n",
    "from detectron2.data import DatasetCatalog, MetadataCatalog, build_detection_test_loader\n",
    "from detectron2.evaluation import COCOEvaluator, inference_on_dataset\n",
    "from detectron2.structures import BoxMode\n",
    "\n",
    "import seaborn as sns\n",
    "from pylab import rcParams \n",
    "import matplotlib.pyplot as plt\n",
    "from matplotlib import rc\n",
    "\n",
    "torch.__version__\n",
    "!gcc --version \n",
    "\n",
    "%matplotlib inline\n",
    "%config InlineBackend.figure_format='retina'\n",
    "\n",
    "sns.set(style='whitegrid', palette='muted', font_scale=1.2)\n",
    "\n",
    "HAPPY_COLORS_PALETTE = [\"#01BEFE\", \"#FFDD00\", \"#FF7D00\", \"#FF006D\", \"#ADFF02\", \"#8F00FF\"]\n",
    "\n",
    "sns.set_palette(sns.color_palette(HAPPY_COLORS_PALETTE))\n",
    "\n",
    "rcParams['figure.figsize'] = 12, 8\n",
    "\n",
    "RANDOM_SEED = 42\n",
    "np.random.seed(RANDOM_SEED)\n",
    "torch.manual_seed(RANDOM_SEED)"
   ]
  },
  {
   "cell_type": "code",
   "execution_count": null,
   "metadata": {
    "colab": {},
    "colab_type": "code",
    "id": "bYG1RxVMJeDh"
   },
   "outputs": [],
   "source": [
    "# Download annotaions.json file from google drive\n",
    "#!gdown --id 1H6cuE8SyEgmoINxglMfeCAIgQUW3nOTj\n",
    "# Download dataset file from google drive\n",
    "#!gdown --id 1XkG4aYIjSPlBMv0NxIyGD22VDVeh-pnn"
   ]
  },
  {
   "cell_type": "code",
   "execution_count": null,
   "metadata": {
    "colab": {},
    "colab_type": "code",
    "id": "HTcYxbK0PIk4"
   },
   "outputs": [],
   "source": [
    "# Extract compressed dataset to My Drive\n",
    "#!tar -xf '/content/images_handheld.tar.gz' --directory '/content/drive/My Drive/Plant disease detection project'"
   ]
  },
  {
   "cell_type": "code",
   "execution_count": null,
   "metadata": {
    "colab": {},
    "colab_type": "code",
    "id": "5UknUZ0owCDD"
   },
   "outputs": [],
   "source": [
    "dataset_dir = '/mnt/Data/MaizeImg/hand_held/ori_download/ori_download'"
   ]
  },
  {
   "cell_type": "code",
   "execution_count": null,
   "metadata": {
    "colab": {},
    "colab_type": "code",
    "id": "L0k8PVbCJvLq"
   },
   "outputs": [],
   "source": [
    "diseases_df = pd.read_csv('/mnt/Data/MaizeImg/hand_held/annotations_handheld.csv')"
   ]
  },
  {
   "cell_type": "code",
   "execution_count": null,
   "metadata": {
    "colab": {
     "base_uri": "https://localhost:8080/",
     "height": 204
    },
    "colab_type": "code",
    "id": "t5UwqAxOKSI2",
    "outputId": "c2c290b5-879d-45eb-e627-75a22fd48a24"
   },
   "outputs": [],
   "source": [
    "diseases_df.head()"
   ]
  },
  {
   "cell_type": "code",
   "execution_count": null,
   "metadata": {
    "colab": {},
    "colab_type": "code",
    "id": "D0u_JoWBnSEU"
   },
   "outputs": [],
   "source": [
    "dataset = []\n",
    "\n",
    "\n",
    "for index, row in tqdm(diseases_df.iterrows(), total=diseases_df.shape[0]):\n",
    "\n",
    "    data = {}\n",
    "\n",
    "\n",
    "    image_name = row['image']\n",
    "\n",
    "    im = Image.open('{}/{}'.format(dataset_dir, image_name))\n",
    "\n",
    "    w, h = im.size\n",
    "\n",
    "    data['file_name'] = image_name\n",
    "    data['height'] = h\n",
    "    data['width'] = w\n",
    "    data[\"x_min\"] = row[\"x1\"]\n",
    "    data[\"y_min\"] = row[\"y1\"]\n",
    "    data[\"x_max\"] = row[\"x2\"]\n",
    "    data[\"y_max\"] = row[\"y2\"]\n",
    "\n",
    "    data['class_name'] = 'Northern Leaf Blight'\n",
    "\n",
    "    dataset.append(data)"
   ]
  },
  {
   "cell_type": "code",
   "execution_count": null,
   "metadata": {
    "colab": {},
    "colab_type": "code",
    "id": "pkehDNd0btQD"
   },
   "outputs": [],
   "source": [
    "df = pd.DataFrame(dataset)\n",
    "df.head()"
   ]
  },
  {
   "cell_type": "code",
   "execution_count": null,
   "metadata": {
    "colab": {},
    "colab_type": "code",
    "id": "DEIIt4bBNgCN"
   },
   "outputs": [],
   "source": [
    "print(df.file_name.unique().shape[0], df.shape[0])"
   ]
  },
  {
   "cell_type": "code",
   "execution_count": null,
   "metadata": {
    "colab": {},
    "colab_type": "code",
    "id": "K7MiHCK1PnJb"
   },
   "outputs": [],
   "source": [
    "def annotate_image(annotations):\n",
    "  file_name = annotations.file_name.to_numpy()[0]\n",
    "  img = cv2.cvtColor(cv2.imread(f'{dataset_dir}/{file_name}'), cv2.COLOR_BGR2RGB)\n",
    "\n",
    "  for i, a in annotations.iterrows():    \n",
    "    cv2.rectangle(img, (a.x_min, a.y_min), (a.x_max, a.y_max), (0, 255, 0), 8)\n",
    "\n",
    "    return img\n",
    "  # if not resize:\n",
    "  #   return img\n",
    "\n",
    "  # return cv2.resize(img, (384, 384), interpolation = cv2.INTER_AREA)"
   ]
  },
  {
   "cell_type": "code",
   "execution_count": null,
   "metadata": {
    "colab": {},
    "colab_type": "code",
    "id": "FqwPhTCiQVx_"
   },
   "outputs": [],
   "source": [
    "img_df = df[df.file_name == df.file_name.unique()[0]]\n",
    "img = annotate_image(img_df)\n",
    "\n",
    "plt.imshow(img)\n",
    "plt.axis('off');"
   ]
  },
  {
   "cell_type": "code",
   "execution_count": null,
   "metadata": {
    "colab": {},
    "colab_type": "code",
    "id": "SA8An0PLYKFA"
   },
   "outputs": [],
   "source": [
    "sample_images = [annotate_image(df[df.file_name == f]) for f in df.file_name.unique()[:10]]\n",
    "sample_images = torch.as_tensor(sample_images)"
   ]
  },
  {
   "cell_type": "code",
   "execution_count": null,
   "metadata": {
    "colab": {},
    "colab_type": "code",
    "id": "PpccxDb3YWjH"
   },
   "outputs": [],
   "source": [
    "sample_images.shape"
   ]
  },
  {
   "cell_type": "code",
   "execution_count": null,
   "metadata": {
    "colab": {},
    "colab_type": "code",
    "id": "fqFa_u4mYbil"
   },
   "outputs": [],
   "source": [
    "sample_images = sample_images.permute(0, 3, 1, 2)\n",
    "sample_images.shape"
   ]
  },
  {
   "cell_type": "code",
   "execution_count": null,
   "metadata": {
    "colab": {},
    "colab_type": "code",
    "id": "4Sx2KS8tYgXO"
   },
   "outputs": [],
   "source": [
    "plt.figure(figsize=(24, 12))\n",
    "grid_img = torchvision.utils.make_grid(sample_images, nrow=5)\n",
    "\n",
    "plt.imshow(grid_img.permute(1, 2, 0))\n",
    "plt.axis('off');"
   ]
  },
  {
   "cell_type": "markdown",
   "metadata": {
    "colab_type": "text",
    "id": "AoI9WCoBXJJ0"
   },
   "source": [
    "**Maize disease symptoms detection with Detectron2**"
   ]
  },
  {
   "cell_type": "code",
   "execution_count": null,
   "metadata": {
    "colab": {
     "base_uri": "https://localhost:8080/",
     "height": 163
    },
    "colab_type": "code",
    "id": "Xgz5HMQ2XTev",
    "outputId": "9e8c713e-a8c5-4494-8f8d-c5d942cf733c"
   },
   "outputs": [],
   "source": [
    "df.to_csv(f'{dataset_dir}/annotations.csv', header=True, index=None)"
   ]
  },
  {
   "cell_type": "code",
   "execution_count": null,
   "metadata": {
    "colab": {
     "base_uri": "https://localhost:8080/",
     "height": 204
    },
    "colab_type": "code",
    "id": "5VA2CwiUZ9Mf",
    "outputId": "7f8cba40-2faf-433a-dc49-bd1ceb13523d"
   },
   "outputs": [],
   "source": [
    "df = pd.read_csv(f'{dataset_dir}/annotations.csv')\n",
    "\n",
    "\n",
    "IMAGES_PATH = f'{dataset_dir}'\n",
    "\n",
    "unique_files = df.file_name.unique()\n",
    "\n",
    "train_files = set(np.random.choice(unique_files, int(len(unique_files) * 0.80), replace=False))\n",
    "train_df = df[df.file_name.isin(train_files)]\n",
    "test_df = df[~df.file_name.isin(train_files)]\n",
    "\n",
    "train_df.head()"
   ]
  },
  {
   "cell_type": "code",
   "execution_count": null,
   "metadata": {
    "colab": {
     "base_uri": "https://localhost:8080/",
     "height": 34
    },
    "colab_type": "code",
    "id": "f38UMNigaYXN",
    "outputId": "3314a4c3-e260-447a-e7df-95e7a8de707e"
   },
   "outputs": [],
   "source": [
    "classes = df.class_name.unique().tolist()\n",
    "print(classes)"
   ]
  },
  {
   "cell_type": "code",
   "execution_count": null,
   "metadata": {
    "colab": {},
    "colab_type": "code",
    "id": "JGSaxwolc6GU"
   },
   "outputs": [],
   "source": [
    "def create_dataset_dicts(df, classes):\n",
    "  dataset_dicts = []\n",
    "  for image_id, img_name in enumerate(df.file_name.unique()):\n",
    "\n",
    "    record = {}\n",
    "    \n",
    "\n",
    "    image_df = df[df.file_name == img_name]\n",
    "\n",
    "    file_path = f'{IMAGES_PATH}/{img_name}'\n",
    "\n",
    "    record[\"file_name\"] = file_path\n",
    "    record[\"image_id\"] = image_id\n",
    "    record[\"height\"] = int(image_df.iloc[0].height)\n",
    "    record[\"width\"] = int(image_df.iloc[0].width)\n",
    "\n",
    "    objs = []\n",
    "    for _, row in image_df.iterrows():\n",
    "\n",
    "      xmin = int(row.x_min)\n",
    "      ymin = int(row.y_min)\n",
    "      xmax = int(row.x_max)\n",
    "      ymax = int(row.y_max)\n",
    "\n",
    "      poly = [\n",
    "          (xmin, ymin), (xmax, ymin), \n",
    "          (xmax, ymax), (xmin, ymax)\n",
    "      ]\n",
    "      poly = list(itertools.chain.from_iterable(poly))\n",
    "\n",
    "      obj = {\n",
    "        \"bbox\": [xmin, ymin, xmax, ymax],\n",
    "        \"bbox_mode\": BoxMode.XYXY_ABS,\n",
    "        \"segmentation\": [poly],\n",
    "        \"category_id\": classes.index(row.class_name),\n",
    "        \"iscrowd\": 0\n",
    "      }\n",
    "      objs.append(obj)\n",
    "\n",
    "    record[\"annotations\"] = objs\n",
    "    dataset_dicts.append(record)\n",
    "  return dataset_dicts"
   ]
  },
  {
   "cell_type": "code",
   "execution_count": null,
   "metadata": {
    "colab": {},
    "colab_type": "code",
    "id": "XDE2Wkkcd6Ah"
   },
   "outputs": [],
   "source": [
    "for d in [\"train\", \"val\"]:\n",
    "  DatasetCatalog.register(\"diseases_\" + d, lambda d=d: create_dataset_dicts(train_df if d == \"train\" else test_df, classes))\n",
    "  MetadataCatalog.get(\"diseases_\" + d).set(thing_classes=classes)\n",
    "\n",
    "statement_metadata = MetadataCatalog.get(\"diseases_train\")"
   ]
  },
  {
   "cell_type": "code",
   "execution_count": null,
   "metadata": {
    "colab": {},
    "colab_type": "code",
    "id": "i3t9CQaMeq2t"
   },
   "outputs": [],
   "source": [
    "class CocoTrainer(DefaultTrainer):\n",
    "  \n",
    "  @classmethod\n",
    "  def build_evaluator(cls, cfg, dataset_name, output_folder=None):\n",
    "\n",
    "    if output_folder is None:\n",
    "        os.makedirs(\"./coco_eval\", exist_ok=True)\n",
    "        output_folder = \"./coco_eval\"\n",
    "\n",
    "    return COCOEvaluator(dataset_name, cfg, False, output_folder)"
   ]
  },
  {
   "cell_type": "code",
   "execution_count": null,
   "metadata": {
    "colab": {},
    "colab_type": "code",
    "id": "s-joesGafBFp"
   },
   "outputs": [],
   "source": [
    "cfg = get_cfg()\n",
    "\n",
    "cfg.merge_from_file(\n",
    "  model_zoo.get_config_file(\n",
    "    \"COCO-InstanceSegmentation/mask_rcnn_R_50_FPN_1x.yaml\"\n",
    "  )\n",
    ")\n",
    "\n",
    "cfg.MODEL.WEIGHTS = \"detectron2://COCO-InstanceSegmentation/mask_rcnn_R_50_FPN_1x/137260431/model_final_a54504.pkl\""
   ]
  },
  {
   "cell_type": "code",
   "execution_count": null,
   "metadata": {
    "colab": {},
    "colab_type": "code",
    "id": "EkbcsZfFfCJh"
   },
   "outputs": [],
   "source": [
    "cfg.DATASETS.TRAIN = (\"diseases_train\",)\n",
    "cfg.DATASETS.TEST = (\"diseases_val\",)\n",
    "cfg.DATALOADER.NUM_WORKERS = 4\n",
    "cfg.OUTPUT_DIR = './output'"
   ]
  },
  {
   "cell_type": "code",
   "execution_count": null,
   "metadata": {
    "colab": {},
    "colab_type": "code",
    "id": "MjZe7CQcfNjV"
   },
   "outputs": [],
   "source": [
    "cfg.SOLVER.IMS_PER_BATCH = 4\n",
    "cfg.SOLVER.BASE_LR = 0.001\n",
    "cfg.SOLVER.WARMUP_ITERS = 1000\n",
    "cfg.SOLVER.MAX_ITER = 1500\n",
    "cfg.SOLVER.STEPS = (1000, 1500)\n",
    "cfg.SOLVER.GAMMA = 0.05"
   ]
  },
  {
   "cell_type": "code",
   "execution_count": null,
   "metadata": {
    "colab": {},
    "colab_type": "code",
    "id": "4Z3pQkNcgk33"
   },
   "outputs": [],
   "source": [
    "cfg.MODEL.ROI_HEADS.BATCH_SIZE_PER_IMAGE = 16\n",
    "cfg.MODEL.ROI_HEADS.NUM_CLASSES = len(classes)\n",
    "\n",
    "cfg.TEST.EVAL_PERIOD = 500\n"
   ]
  },
  {
   "cell_type": "code",
   "execution_count": null,
   "metadata": {
    "colab": {
     "base_uri": "https://localhost:8080/",
     "height": 1000
    },
    "colab_type": "code",
    "id": "NghnPHXKhvaa",
    "outputId": "b44c08f2-a626-42b4-fbcf-e59aa5375d03"
   },
   "outputs": [],
   "source": [
    "from PIL import ImageFile\n",
    "ImageFile.LOAD_TRUNCATED_IMAGES = True\n",
    "os.makedirs(cfg.OUTPUT_DIR, exist_ok=True)\n",
    "\n",
    "trainer = CocoTrainer(cfg) \n",
    "trainer.resume_or_load(resume=False)\n",
    "trainer.train()"
   ]
  },
  {
   "cell_type": "code",
   "execution_count": null,
   "metadata": {
    "colab": {},
    "colab_type": "code",
    "id": "ucc7BtU7z0tE"
   },
   "outputs": [],
   "source": [
    "%load_ext tensorboard"
   ]
  },
  {
   "cell_type": "code",
   "execution_count": null,
   "metadata": {
    "colab": {
     "base_uri": "https://localhost:8080/",
     "height": 34
    },
    "colab_type": "code",
    "id": "izbm6eFb1Tvx",
    "outputId": "5ed4e6d4-30e0-4e41-e4dc-19c22e36f1f9"
   },
   "outputs": [],
   "source": [
    "#%tensorboard --logdir output\n",
    "%tensorboard --logdir=\"./output\""
   ]
  },
  {
   "cell_type": "code",
   "execution_count": null,
   "metadata": {
    "colab": {
     "base_uri": "https://localhost:8080/",
     "height": 34
    },
    "colab_type": "code",
    "id": "6tupSPih1wmW",
    "outputId": "dcd897f8-c7d7-4dad-fbcf-b9f1346a3f2e"
   },
   "outputs": [],
   "source": [
    "cfg.MODEL.WEIGHTS = os.path.join(cfg.OUTPUT_DIR, \"model_final.pth\")\n",
    "cfg.MODEL.ROI_HEADS.SCORE_THRESH_TEST = 0.85\n",
    "cfg.MODEL.ROI_HEADS.NMS_THRESH_TEST = 0.5\n",
    "predictor = DefaultPredictor(cfg)\n",
    "print(cfg.MODEL.WEIGHTS)"
   ]
  },
  {
   "cell_type": "code",
   "execution_count": null,
   "metadata": {
    "colab": {},
    "colab_type": "code",
    "id": "v6XqqDDeQgr1"
   },
   "outputs": [],
   "source": [
    "cfg.dump()"
   ]
  },
  {
   "cell_type": "code",
   "execution_count": null,
   "metadata": {
    "colab": {
     "base_uri": "https://localhost:8080/",
     "height": 1000
    },
    "colab_type": "code",
    "id": "sqy4F02f2U7-",
    "outputId": "97eb5161-ef34-4d3a-b375-d6eafd34eae6",
    "scrolled": true
   },
   "outputs": [],
   "source": [
    "evaluator = COCOEvaluator(\"diseases_val\", cfg, False, output_dir=\"./output\")\n",
    "val_loader = build_detection_test_loader(cfg, \"diseases_val\")\n",
    "inference_on_dataset(trainer.model, val_loader, evaluator)"
   ]
  },
  {
   "cell_type": "markdown",
   "metadata": {
    "colab_type": "text",
    "id": "CeHQ6kUKKXk7"
   },
   "source": [
    "Find Diseases in the Images"
   ]
  },
  {
   "cell_type": "code",
   "execution_count": null,
   "metadata": {
    "colab": {},
    "colab_type": "code",
    "id": "Nst_IKrLKeL0"
   },
   "outputs": [],
   "source": [
    "os.makedirs(\"annotated_results\", exist_ok=True)\n",
    "\n",
    "test_image_paths = test_df.file_name.unique()"
   ]
  },
  {
   "cell_type": "code",
   "execution_count": null,
   "metadata": {
    "colab": {},
    "colab_type": "code",
    "id": "OGlY99qxK4-E"
   },
   "outputs": [],
   "source": [
    "for clothing_image in test_image_paths:\n",
    "  file_path = f'{IMAGES_PATH}/{clothing_image}'\n",
    "  im = cv2.imread(file_path)\n",
    "  outputs = predictor(im)\n",
    "  v = Visualizer(\n",
    "    im[:, :, ::-1],\n",
    "    metadata=statement_metadata, \n",
    "    scale=1.2, \n",
    "    instance_mode=ColorMode.IMAGE\n",
    "  )\n",
    "  instances = outputs[\"instances\"].to(\"cpu\")\n",
    "  instances.remove('pred_masks')\n",
    "  #instances.\n",
    "  v = v.draw_instance_predictions(instances)\n",
    "  result = v.get_image()[:, :, ::-1]\n",
    "  file_name = ntpath.basename(clothing_image)\n",
    "  write_res = cv2.imwrite(f'annotated_results/{file_name}', result)"
   ]
  },
  {
   "cell_type": "code",
   "execution_count": null,
   "metadata": {
    "colab": {},
    "colab_type": "code",
    "id": "lzgrPYI1PbLW"
   },
   "outputs": [],
   "source": [
    "annotated_images = [f'annotated_results/{f}' for f in test_df.file_name.unique()]"
   ]
  },
  {
   "cell_type": "code",
   "execution_count": null,
   "metadata": {
    "colab": {
     "base_uri": "https://localhost:8080/",
     "height": 466
    },
    "colab_type": "code",
    "id": "Y-arHSAaPfMh",
    "outputId": "ba7682c8-e8ad-4350-875b-1b2bb4010403"
   },
   "outputs": [],
   "source": [
    "img = cv2.cvtColor(cv2.imread(annotated_images[230]), cv2.COLOR_BGR2RGB)\n",
    "\n",
    "plt.imshow(img)\n",
    "plt.axis('off');"
   ]
  },
  {
   "cell_type": "markdown",
   "metadata": {
    "colab_type": "text",
    "id": "Tt8H_kqkAwQG"
   },
   "source": [
    "Deployment"
   ]
  },
  {
   "cell_type": "code",
   "execution_count": null,
   "metadata": {
    "colab": {},
    "colab_type": "code",
    "id": "2mCSDz0oXNMd"
   },
   "outputs": [],
   "source": [
    "from detectron2.checkpoint import DetectionCheckpointer\n",
    "from detectron2.config import get_cfg\n",
    "from detectron2.data import build_detection_test_loader\n",
    "from detectron2.evaluation import COCOEvaluator, inference_on_dataset, print_csv_format\n",
    "from detectron2.export import add_export_config, export_caffe2_model\n",
    "from detectron2.modeling import build_model\n",
    "\n",
    "\n",
    "\n",
    "# create a torch model\n",
    "torch_model = build_model(cfg)\n",
    "DetectionCheckpointer(torch_model).resume_or_load(cfg.MODEL.WEIGHTS)\n",
    "\n",
    "# get a sample data\n",
    "data_loader = build_detection_test_loader(cfg, cfg.DATASETS.TEST[0])\n",
    "first_batch = next(iter(data_loader))\n",
    "\n",
    "# convert and save caffe2 model\n",
    "caffe2_model = export_caffe2_model(cfg, torch_model, first_batch)\n",
    "caffe2_model.save_protobuf('./caffe2_model')\n",
    "# draw the caffe2 graph\n",
    "caffe2_model.save_graph(os.path.join('./caffe2_model', \"model.svg\"), inputs=first_batch)\n",
    "\n",
    "# run evaluation with the converted model\n",
    "if args.run_eval:\n",
    "    dataset = cfg.DATASETS.TEST[0]\n",
    "    data_loader = build_detection_test_loader(cfg, dataset)\n",
    "    # NOTE: hard-coded evaluator. change to the evaluator for your dataset\n",
    "    evaluator = COCOEvaluator(dataset, cfg, True, './caffe2_model')\n",
    "    metrics = inference_on_dataset(caffe2_model, data_loader, evaluator)\n",
    "    print_csv_format(metrics)"
   ]
  },
  {
   "cell_type": "code",
   "execution_count": null,
   "metadata": {},
   "outputs": [],
   "source": []
  },
  {
   "cell_type": "code",
   "execution_count": null,
   "metadata": {},
   "outputs": [],
   "source": []
  }
 ],
 "metadata": {
  "accelerator": "GPU",
  "colab": {
   "authorship_tag": "ABX9TyMcBihYESuvQynH/xoKBt/0",
   "collapsed_sections": [],
   "include_colab_link": true,
   "mount_file_id": "1cY_svlG7F6YHuNa3Mg9VV6s1KaJEgGrq",
   "name": "Planta - Maize disease symptoms detection.ipynb",
   "provenance": []
  },
  "kernelspec": {
   "display_name": "Python 3",
   "language": "python",
   "name": "python3"
  },
  "language_info": {
   "codemirror_mode": {
    "name": "ipython",
    "version": 3
   },
   "file_extension": ".py",
   "mimetype": "text/x-python",
   "name": "python",
   "nbconvert_exporter": "python",
   "pygments_lexer": "ipython3",
   "version": "3.8.10"
  }
 },
 "nbformat": 4,
 "nbformat_minor": 4
}
