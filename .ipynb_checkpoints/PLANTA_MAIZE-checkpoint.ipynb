{
 "cells": [
  {
   "cell_type": "markdown",
   "metadata": {
    "colab_type": "text",
    "id": "view-in-github"
   },
   "source": [
    "<a href=\"https://colab.research.google.com/github/Musbell/Planta---Maize-disease-symptoms-detection/blob/master/Planta_Maize_disease_symptoms_detection.ipynb\" target=\"_parent\"><img src=\"https://colab.research.google.com/assets/colab-badge.svg\" alt=\"Open In Colab\"/></a>"
   ]
  },
  {
   "cell_type": "code",
   "execution_count": 1,
   "metadata": {
    "colab": {
     "base_uri": "https://localhost:8080/",
     "height": 306
    },
    "colab_type": "code",
    "id": "Ek5eEI5D532y",
    "outputId": "ac06deba-011d-4443-8489-e2088544e46e"
   },
   "outputs": [
    {
     "name": "stdout",
     "output_type": "stream",
     "text": [
      "Sun Jun  6 18:12:27 2021       \n",
      "+-----------------------------------------------------------------------------+\n",
      "| NVIDIA-SMI 460.80       Driver Version: 460.80       CUDA Version: 11.2     |\n",
      "|-------------------------------+----------------------+----------------------+\n",
      "| GPU  Name        Persistence-M| Bus-Id        Disp.A | Volatile Uncorr. ECC |\n",
      "| Fan  Temp  Perf  Pwr:Usage/Cap|         Memory-Usage | GPU-Util  Compute M. |\n",
      "|                               |                      |               MIG M. |\n",
      "|===============================+======================+======================|\n",
      "|   0  GeForce GTX 960     Off  | 00000000:01:00.0  On |                  N/A |\n",
      "| 33%   49C    P5    14W / 120W |    713MiB /  1999MiB |     15%      Default |\n",
      "|                               |                      |                  N/A |\n",
      "+-------------------------------+----------------------+----------------------+\n",
      "                                                                               \n",
      "+-----------------------------------------------------------------------------+\n",
      "| Processes:                                                                  |\n",
      "|  GPU   GI   CI        PID   Type   Process name                  GPU Memory |\n",
      "|        ID   ID                                                   Usage      |\n",
      "|=============================================================================|\n",
      "|    0   N/A  N/A       998      G   /usr/lib/xorg/Xorg                 54MiB |\n",
      "|    0   N/A  N/A      1549      G   /usr/lib/xorg/Xorg                245MiB |\n",
      "|    0   N/A  N/A      1677      G   /usr/bin/gnome-shell               56MiB |\n",
      "|    0   N/A  N/A      3322      G   ...AAAAAAAAA= --shared-files      255MiB |\n",
      "|    0   N/A  N/A      3832      G   ...AAAAAAAAA= --shared-files        5MiB |\n",
      "|    0   N/A  N/A      5668      G   ...AAAAAAAAA= --shared-files       24MiB |\n",
      "|    0   N/A  N/A      5671      G   .../debug.log --shared-files       55MiB |\n",
      "+-----------------------------------------------------------------------------+\n"
     ]
    }
   ],
   "source": [
    "!nvidia-smi"
   ]
  },
  {
   "cell_type": "code",
   "execution_count": 2,
   "metadata": {
    "colab": {
     "base_uri": "https://localhost:8080/",
     "height": 513
    },
    "colab_type": "code",
    "id": "w3IjFYKkF7mP",
    "outputId": "e4ec85ae-ca15-4a2f-cdd9-c6c9cddde3e8"
   },
   "outputs": [
    {
     "name": "stdout",
     "output_type": "stream",
     "text": [
      "Looking in links: https://dl.fbaipublicfiles.com/detectron2/wheels/cu100/index.html\n",
      "Requirement already satisfied: detectron2 in /home/avery/anaconda3/envs/planta_maize/lib/python3.8/site-packages (0.4)\n",
      "Requirement already satisfied: tqdm>4.29.0 in /home/avery/anaconda3/envs/planta_maize/lib/python3.8/site-packages (from detectron2) (4.61.0)\n",
      "Requirement already satisfied: termcolor>=1.1 in /home/avery/anaconda3/envs/planta_maize/lib/python3.8/site-packages (from detectron2) (1.1.0)\n",
      "Requirement already satisfied: cloudpickle in /home/avery/anaconda3/envs/planta_maize/lib/python3.8/site-packages (from detectron2) (1.6.0)\n",
      "Requirement already satisfied: tabulate in /home/avery/anaconda3/envs/planta_maize/lib/python3.8/site-packages (from detectron2) (0.8.9)\n",
      "Requirement already satisfied: matplotlib in /home/avery/anaconda3/envs/planta_maize/lib/python3.8/site-packages (from detectron2) (3.4.2)\n",
      "Requirement already satisfied: tensorboard in /home/avery/anaconda3/envs/planta_maize/lib/python3.8/site-packages (from detectron2) (2.5.0)\n",
      "Collecting omegaconf>=2\n",
      "  Downloading omegaconf-2.0.6-py3-none-any.whl (36 kB)\n",
      "Requirement already satisfied: future in /home/avery/anaconda3/envs/planta_maize/lib/python3.8/site-packages (from detectron2) (0.18.2)\n",
      "Requirement already satisfied: pydot in /home/avery/anaconda3/envs/planta_maize/lib/python3.8/site-packages (from detectron2) (1.4.2)\n",
      "Requirement already satisfied: yacs>=0.1.6 in /home/avery/anaconda3/envs/planta_maize/lib/python3.8/site-packages (from detectron2) (0.1.6)\n",
      "Collecting fvcore<0.1.4,>=0.1.3\n",
      "  Downloading fvcore-0.1.3.post20210317.tar.gz (47 kB)\n",
      "\u001b[K     |████████████████████████████████| 47 kB 2.7 MB/s eta 0:00:011\n",
      "\u001b[?25hCollecting iopath>=0.1.2\n",
      "  Downloading iopath-0.1.8-py3-none-any.whl (19 kB)\n",
      "Requirement already satisfied: pycocotools>=2.0.2 in /home/avery/anaconda3/envs/planta_maize/lib/python3.8/site-packages (from detectron2) (2.0.2)\n",
      "Requirement already satisfied: Pillow>=7.1 in /home/avery/anaconda3/envs/planta_maize/lib/python3.8/site-packages (from detectron2) (8.2.0)\n",
      "Requirement already satisfied: numpy in /home/avery/anaconda3/envs/planta_maize/lib/python3.8/site-packages (from fvcore<0.1.4,>=0.1.3->detectron2) (1.20.3)\n",
      "Requirement already satisfied: pyyaml>=5.1 in /home/avery/anaconda3/envs/planta_maize/lib/python3.8/site-packages (from fvcore<0.1.4,>=0.1.3->detectron2) (5.4.1)\n",
      "Requirement already satisfied: portalocker in /home/avery/anaconda3/envs/planta_maize/lib/python3.8/site-packages (from iopath>=0.1.2->detectron2) (1.7.0)\n",
      "Requirement already satisfied: typing-extensions in /home/avery/anaconda3/envs/planta_maize/lib/python3.8/site-packages (from omegaconf>=2->detectron2) (3.10.0.0)\n",
      "Requirement already satisfied: setuptools>=18.0 in /home/avery/anaconda3/envs/planta_maize/lib/python3.8/site-packages (from pycocotools>=2.0.2->detectron2) (49.6.0.post20210108)\n",
      "Requirement already satisfied: cython>=0.27.3 in /home/avery/anaconda3/envs/planta_maize/lib/python3.8/site-packages (from pycocotools>=2.0.2->detectron2) (0.29.23)\n",
      "Requirement already satisfied: kiwisolver>=1.0.1 in /home/avery/anaconda3/envs/planta_maize/lib/python3.8/site-packages (from matplotlib->detectron2) (1.3.1)\n",
      "Requirement already satisfied: cycler>=0.10 in /home/avery/anaconda3/envs/planta_maize/lib/python3.8/site-packages (from matplotlib->detectron2) (0.10.0)\n",
      "Requirement already satisfied: pyparsing>=2.2.1 in /home/avery/anaconda3/envs/planta_maize/lib/python3.8/site-packages (from matplotlib->detectron2) (2.4.7)\n",
      "Requirement already satisfied: python-dateutil>=2.7 in /home/avery/anaconda3/envs/planta_maize/lib/python3.8/site-packages (from matplotlib->detectron2) (2.8.1)\n",
      "Requirement already satisfied: six in /home/avery/anaconda3/envs/planta_maize/lib/python3.8/site-packages (from cycler>=0.10->matplotlib->detectron2) (1.16.0)\n",
      "Requirement already satisfied: protobuf>=3.6.0 in /home/avery/anaconda3/envs/planta_maize/lib/python3.8/site-packages (from tensorboard->detectron2) (3.14.0)\n",
      "Requirement already satisfied: google-auth<2,>=1.6.3 in /home/avery/anaconda3/envs/planta_maize/lib/python3.8/site-packages (from tensorboard->detectron2) (1.30.0)\n",
      "Requirement already satisfied: google-auth-oauthlib<0.5,>=0.4.1 in /home/avery/anaconda3/envs/planta_maize/lib/python3.8/site-packages (from tensorboard->detectron2) (0.4.1)\n",
      "Requirement already satisfied: grpcio>=1.24.3 in /home/avery/anaconda3/envs/planta_maize/lib/python3.8/site-packages (from tensorboard->detectron2) (1.38.0)\n",
      "Requirement already satisfied: requests<3,>=2.21.0 in /home/avery/anaconda3/envs/planta_maize/lib/python3.8/site-packages (from tensorboard->detectron2) (2.25.1)\n",
      "Requirement already satisfied: werkzeug>=0.11.15 in /home/avery/anaconda3/envs/planta_maize/lib/python3.8/site-packages (from tensorboard->detectron2) (2.0.1)\n",
      "Requirement already satisfied: absl-py>=0.4 in /home/avery/anaconda3/envs/planta_maize/lib/python3.8/site-packages (from tensorboard->detectron2) (0.12.0)\n",
      "Collecting tensorboard-data-server<0.7.0,>=0.6.0\n",
      "  Downloading tensorboard_data_server-0.6.1-py3-none-manylinux2010_x86_64.whl (4.9 MB)\n",
      "\u001b[K     |████████████████████████████████| 4.9 MB 9.0 MB/s eta 0:00:01\n",
      "\u001b[?25hRequirement already satisfied: wheel>=0.26 in /home/avery/anaconda3/envs/planta_maize/lib/python3.8/site-packages (from tensorboard->detectron2) (0.34.2)\n",
      "Requirement already satisfied: markdown>=2.6.8 in /home/avery/anaconda3/envs/planta_maize/lib/python3.8/site-packages (from tensorboard->detectron2) (3.3.4)\n",
      "Requirement already satisfied: tensorboard-plugin-wit>=1.6.0 in /home/avery/anaconda3/envs/planta_maize/lib/python3.8/site-packages (from tensorboard->detectron2) (1.8.0)\n",
      "Requirement already satisfied: rsa<5,>=3.1.4 in /home/avery/anaconda3/envs/planta_maize/lib/python3.8/site-packages (from google-auth<2,>=1.6.3->tensorboard->detectron2) (4.7.2)\n",
      "Requirement already satisfied: cachetools<5.0,>=2.0.0 in /home/avery/anaconda3/envs/planta_maize/lib/python3.8/site-packages (from google-auth<2,>=1.6.3->tensorboard->detectron2) (4.2.2)\n",
      "Requirement already satisfied: pyasn1-modules>=0.2.1 in /home/avery/anaconda3/envs/planta_maize/lib/python3.8/site-packages (from google-auth<2,>=1.6.3->tensorboard->detectron2) (0.2.7)\n",
      "Requirement already satisfied: requests-oauthlib>=0.7.0 in /home/avery/anaconda3/envs/planta_maize/lib/python3.8/site-packages (from google-auth-oauthlib<0.5,>=0.4.1->tensorboard->detectron2) (1.3.0)\n",
      "Requirement already satisfied: pyasn1<0.5.0,>=0.4.6 in /home/avery/anaconda3/envs/planta_maize/lib/python3.8/site-packages (from pyasn1-modules>=0.2.1->google-auth<2,>=1.6.3->tensorboard->detectron2) (0.4.8)\n",
      "Requirement already satisfied: urllib3<1.27,>=1.21.1 in /home/avery/anaconda3/envs/planta_maize/lib/python3.8/site-packages (from requests<3,>=2.21.0->tensorboard->detectron2) (1.26.5)\n",
      "Requirement already satisfied: chardet<5,>=3.0.2 in /home/avery/anaconda3/envs/planta_maize/lib/python3.8/site-packages (from requests<3,>=2.21.0->tensorboard->detectron2) (4.0.0)\n",
      "Requirement already satisfied: certifi>=2017.4.17 in /home/avery/anaconda3/envs/planta_maize/lib/python3.8/site-packages (from requests<3,>=2.21.0->tensorboard->detectron2) (2021.5.30)\n",
      "Requirement already satisfied: idna<3,>=2.5 in /home/avery/anaconda3/envs/planta_maize/lib/python3.8/site-packages (from requests<3,>=2.21.0->tensorboard->detectron2) (2.10)\n",
      "Requirement already satisfied: oauthlib>=3.0.0 in /home/avery/anaconda3/envs/planta_maize/lib/python3.8/site-packages (from requests-oauthlib>=0.7.0->google-auth-oauthlib<0.5,>=0.4.1->tensorboard->detectron2) (3.1.1)\n",
      "Building wheels for collected packages: fvcore\n",
      "  Building wheel for fvcore (setup.py) ... \u001b[?25ldone\n",
      "\u001b[?25h  Created wheel for fvcore: filename=fvcore-0.1.3.post20210317-py3-none-any.whl size=58540 sha256=b44b19e1e30a9e2a923275eed00ae6c9c278428022e5a78e67242ff22e3126e1\n",
      "  Stored in directory: /home/avery/.cache/pip/wheels/19/65/1b/67f264eee136ba1a866c47cc5af6934e423ee209b7c62c2352\n",
      "Successfully built fvcore\n",
      "Installing collected packages: tensorboard-data-server, iopath, omegaconf, fvcore\n",
      "  Attempting uninstall: fvcore\n",
      "    Found existing installation: fvcore 0.1.5.post20210604\n",
      "    Uninstalling fvcore-0.1.5.post20210604:\n",
      "      Successfully uninstalled fvcore-0.1.5.post20210604\n"
     ]
    },
    {
     "name": "stdout",
     "output_type": "stream",
     "text": [
      "Successfully installed fvcore-0.1.3.post20210317 iopath-0.1.8 omegaconf-2.0.6 tensorboard-data-server-0.6.1\r\n"
     ]
    }
   ],
   "source": [
    "# install detectron2:\n",
    "!pip install detectron2 -f https://dl.fbaipublicfiles.com/detectron2/wheels/cu100/index.html"
   ]
  },
  {
   "cell_type": "code",
   "execution_count": null,
   "metadata": {
    "colab": {
     "base_uri": "https://localhost:8080/",
     "height": 632
    },
    "colab_type": "code",
    "id": "esWMxNfPxdkq",
    "outputId": "f689a6d7-75d7-4d01-b254-0da142b7dc66"
   },
   "outputs": [
    {
     "name": "stdout",
     "output_type": "stream",
     "text": [
      "Collecting torch==1.4.0\n",
      "  Downloading torch-1.4.0-cp38-cp38-manylinux1_x86_64.whl (753.4 MB)\n",
      "\u001b[K     |███████████████████████████████▊| 746.4 MB 6.2 MB/s eta 0:00:027    |███▋                            | 84.2 MB 5.4 MB/s eta 0:02:04     |███▊                            | 88.0 MB 5.4 MB/s eta 0:02:03     |█████                           | 117.7 MB 6.1 MB/s eta 0:01:44     |██████▌                         | 154.1 MB 7.5 MB/s eta 0:01:20     |███████▏                        | 169.5 MB 5.3 MB/s eta 0:01:50     |█████████                       | 211.7 MB 1.6 MB/s eta 0:05:47     |█████████                       | 212.8 MB 1.6 MB/s eta 0:05:46     |████████████▉                   | 302.8 MB 8.6 MB/s eta 0:00:53     |█████████████▎                  | 312.8 MB 410 kB/s eta 0:17:54     |█████████████▉                  | 326.1 MB 12.0 MB/s eta 0:00:36     |██████████████                  | 329.9 MB 12.0 MB/s eta 0:00:36     |██████████████▋                 | 342.7 MB 5.0 MB/s eta 0:01:23     |██████████████▉                 | 350.5 MB 6.4 MB/s eta 0:01:04     |███████████████▋                | 368.1 MB 16.6 MB/s eta 0:00:24     |████████████████                | 378.9 MB 10.7 MB/s eta 0:00:35     |████████████████▎               | 382.2 MB 10.7 MB/s eta 0:00:35     |█████████████████▍              | 410.4 MB 7.9 MB/s eta 0:00:44     |█████████████████▋              | 414.2 MB 2.3 MB/s eta 0:02:25     |███████████████████             | 447.8 MB 6.3 MB/s eta 0:00:49     |███████████████████▋            | 462.9 MB 11.7 MB/s eta 0:00:25     |██████████████████████▎         | 524.8 MB 8.3 MB/s eta 0:00:28     |█████████████████████████▎      | 594.3 MB 6.3 MB/s eta 0:00:26     |█████████████████████████████   | 682.7 MB 7.6 MB/s eta 0:00:10"
     ]
    }
   ],
   "source": [
    "# install dependencies: (use cu100 because colab is on CUDA 10.0)\n",
    "!pip install -U torch==1.4.0 torchvision==0.5.0 #-f https://download.pytorch.org/whl/torch_stable.html \n",
    "!pip install cython pyyaml==5.1\n",
    "#!pip install -U 'git+https://github.com/cocodataset/cocoapi.git#subdirectory=PythonAPI'\n",
    "\n",
    "# opencv is pre-installed on colab"
   ]
  },
  {
   "cell_type": "code",
   "execution_count": null,
   "metadata": {
    "colab": {
     "base_uri": "https://localhost:8080/",
     "height": 156
    },
    "colab_type": "code",
    "id": "RbvTKpnfAOKy",
    "outputId": "a9ced6e2-79de-4358-e8a8-1b3b3fddd269"
   },
   "outputs": [],
   "source": [
    "!pip install onnx\n",
    "!pip install mock"
   ]
  },
  {
   "cell_type": "code",
   "execution_count": null,
   "metadata": {
    "colab": {},
    "colab_type": "code",
    "id": "f16S-5sMIINC"
   },
   "outputs": [],
   "source": [
    "!pip install -q -U watermark\n",
    "!pip install seaborn"
   ]
  },
  {
   "cell_type": "code",
   "execution_count": null,
   "metadata": {
    "colab": {
     "base_uri": "https://localhost:8080/",
     "height": 170
    },
    "colab_type": "code",
    "id": "yvQoBq3vIS3W",
    "outputId": "e849b898-92ff-458d-cb28-a2ade3631c88"
   },
   "outputs": [],
   "source": [
    "%reload_ext watermark\n",
    "%watermark -v -p numpy,pandas,pycocotools,torch,torchvision,detectron2"
   ]
  },
  {
   "cell_type": "code",
   "execution_count": null,
   "metadata": {
    "colab": {
     "base_uri": "https://localhost:8080/",
     "height": 119
    },
    "colab_type": "code",
    "id": "Hh_Kp8pYwaEG",
    "outputId": "89b39b0d-8083-4c09-a002-6b777bc2b34c"
   },
   "outputs": [],
   "source": [
    "import torch, torchvision\n",
    "import detectron2\n",
    "from detectron2.utils.logger import setup_logger\n",
    "from detectron2 import model_zoo\n",
    "setup_logger()\n",
    "\n",
    "import onnx\n",
    "from unittest.mock import MagicMock\n",
    "\n",
    "import glob\n",
    "\n",
    "import os\n",
    "import ntpath\n",
    "import numpy as np\n",
    "import cv2\n",
    "import random\n",
    "import itertools\n",
    "import pandas as pd\n",
    "from tqdm import tqdm\n",
    "import urllib\n",
    "import json\n",
    "import PIL.Image as Image\n",
    "\n",
    "\n",
    "from detectron2.engine import DefaultPredictor, DefaultTrainer\n",
    "from detectron2.config import get_cfg\n",
    "from detectron2.utils.visualizer import Visualizer, ColorMode\n",
    "from detectron2.data import DatasetCatalog, MetadataCatalog, build_detection_test_loader\n",
    "from detectron2.evaluation import COCOEvaluator, inference_on_dataset\n",
    "from detectron2.structures import BoxMode\n",
    "\n",
    "import seaborn as sns\n",
    "from pylab import rcParams \n",
    "import matplotlib.pyplot as plt\n",
    "from matplotlib import rc\n",
    "\n",
    "torch.__version__\n",
    "!gcc --version \n",
    "\n",
    "%matplotlib inline\n",
    "%config InlineBackend.figure_format='retina'\n",
    "\n",
    "sns.set(style='whitegrid', palette='muted', font_scale=1.2)\n",
    "\n",
    "HAPPY_COLORS_PALETTE = [\"#01BEFE\", \"#FFDD00\", \"#FF7D00\", \"#FF006D\", \"#ADFF02\", \"#8F00FF\"]\n",
    "\n",
    "sns.set_palette(sns.color_palette(HAPPY_COLORS_PALETTE))\n",
    "\n",
    "rcParams['figure.figsize'] = 12, 8\n",
    "\n",
    "RANDOM_SEED = 42\n",
    "np.random.seed(RANDOM_SEED)\n",
    "torch.manual_seed(RANDOM_SEED)"
   ]
  },
  {
   "cell_type": "code",
   "execution_count": null,
   "metadata": {
    "colab": {},
    "colab_type": "code",
    "id": "bYG1RxVMJeDh"
   },
   "outputs": [],
   "source": [
    "# Download annotaions.json file from google drive\n",
    "#!gdown --id 1H6cuE8SyEgmoINxglMfeCAIgQUW3nOTj\n",
    "# Download dataset file from google drive\n",
    "#!gdown --id 1XkG4aYIjSPlBMv0NxIyGD22VDVeh-pnn"
   ]
  },
  {
   "cell_type": "code",
   "execution_count": null,
   "metadata": {
    "colab": {},
    "colab_type": "code",
    "id": "HTcYxbK0PIk4"
   },
   "outputs": [],
   "source": [
    "# Extract compressed dataset to My Drive\n",
    "#!tar -xf '/content/images_handheld.tar.gz' --directory '/content/drive/My Drive/Plant disease detection project'"
   ]
  },
  {
   "cell_type": "code",
   "execution_count": null,
   "metadata": {
    "colab": {},
    "colab_type": "code",
    "id": "5UknUZ0owCDD"
   },
   "outputs": [],
   "source": [
    "dataset_dir = './original_images/'"
   ]
  },
  {
   "cell_type": "code",
   "execution_count": null,
   "metadata": {
    "colab": {},
    "colab_type": "code",
    "id": "L0k8PVbCJvLq"
   },
   "outputs": [],
   "source": [
    "diseases_df = pd.read_csv('annotations_handheld.csv')"
   ]
  },
  {
   "cell_type": "code",
   "execution_count": null,
   "metadata": {
    "colab": {
     "base_uri": "https://localhost:8080/",
     "height": 204
    },
    "colab_type": "code",
    "id": "t5UwqAxOKSI2",
    "outputId": "c2c290b5-879d-45eb-e627-75a22fd48a24"
   },
   "outputs": [],
   "source": [
    "diseases_df.head()"
   ]
  },
  {
   "cell_type": "code",
   "execution_count": null,
   "metadata": {
    "colab": {},
    "colab_type": "code",
    "id": "D0u_JoWBnSEU"
   },
   "outputs": [],
   "source": [
    "dataset = []\n",
    "\n",
    "\n",
    "for index, row in tqdm(diseases_df.iterrows(), total=diseases_df.shape[0]):\n",
    "\n",
    "    data = {}\n",
    "\n",
    "\n",
    "    image_name = row['image']\n",
    "\n",
    "    im = Image.open('{}{}'.format(dataset_dir, image_name))\n",
    "\n",
    "    w, h = im.size\n",
    "\n",
    "    data['file_name'] = image_name\n",
    "    data['height'] = h\n",
    "    data['width'] = w\n",
    "    data[\"x_min\"] = row[\"x1\"]\n",
    "    data[\"y_min\"] = row[\"y1\"]\n",
    "    data[\"x_max\"] = row[\"x2\"]\n",
    "    data[\"y_max\"] = row[\"y2\"]\n",
    "\n",
    "    data['class_name'] = 'Northern Leaf Blight'\n",
    "\n",
    "    dataset.append(data)"
   ]
  },
  {
   "cell_type": "code",
   "execution_count": null,
   "metadata": {
    "colab": {},
    "colab_type": "code",
    "id": "pkehDNd0btQD"
   },
   "outputs": [],
   "source": [
    "df = pd.DataFrame(dataset)\n",
    "df.head()"
   ]
  },
  {
   "cell_type": "code",
   "execution_count": null,
   "metadata": {
    "colab": {},
    "colab_type": "code",
    "id": "DEIIt4bBNgCN"
   },
   "outputs": [],
   "source": [
    "print(df.file_name.unique().shape[0], df.shape[0])"
   ]
  },
  {
   "cell_type": "code",
   "execution_count": null,
   "metadata": {
    "colab": {},
    "colab_type": "code",
    "id": "K7MiHCK1PnJb"
   },
   "outputs": [],
   "source": [
    "def annotate_image(annotations):\n",
    "  file_name = annotations.file_name.to_numpy()[0]\n",
    "  img = cv2.cvtColor(cv2.imread(f'{dataset_dir}/{file_name}'), cv2.COLOR_BGR2RGB)\n",
    "\n",
    "  for i, a in annotations.iterrows():    \n",
    "    cv2.rectangle(img, (a.x_min, a.y_min), (a.x_max, a.y_max), (0, 255, 0), 8)\n",
    "\n",
    "    return img\n",
    "  # if not resize:\n",
    "  #   return img\n",
    "\n",
    "  # return cv2.resize(img, (384, 384), interpolation = cv2.INTER_AREA)"
   ]
  },
  {
   "cell_type": "code",
   "execution_count": null,
   "metadata": {
    "colab": {},
    "colab_type": "code",
    "id": "FqwPhTCiQVx_"
   },
   "outputs": [],
   "source": [
    "img_df = df[df.file_name == df.file_name.unique()[0]]\n",
    "img = annotate_image(img_df)\n",
    "\n",
    "plt.imshow(img)\n",
    "plt.axis('off');"
   ]
  },
  {
   "cell_type": "code",
   "execution_count": null,
   "metadata": {
    "colab": {},
    "colab_type": "code",
    "id": "SA8An0PLYKFA"
   },
   "outputs": [],
   "source": [
    "sample_images = [annotate_image(df[df.file_name == f]) for f in df.file_name.unique()[:10]]\n",
    "sample_images = torch.as_tensor(sample_images)"
   ]
  },
  {
   "cell_type": "code",
   "execution_count": null,
   "metadata": {
    "colab": {},
    "colab_type": "code",
    "id": "PpccxDb3YWjH"
   },
   "outputs": [],
   "source": [
    "sample_images.shape"
   ]
  },
  {
   "cell_type": "code",
   "execution_count": null,
   "metadata": {
    "colab": {},
    "colab_type": "code",
    "id": "fqFa_u4mYbil"
   },
   "outputs": [],
   "source": [
    "sample_images = sample_images.permute(0, 3, 1, 2)\n",
    "sample_images.shape"
   ]
  },
  {
   "cell_type": "code",
   "execution_count": null,
   "metadata": {
    "colab": {},
    "colab_type": "code",
    "id": "4Sx2KS8tYgXO"
   },
   "outputs": [],
   "source": [
    "plt.figure(figsize=(24, 12))\n",
    "grid_img = torchvision.utils.make_grid(sample_images, nrow=5)\n",
    "\n",
    "plt.imshow(grid_img.permute(1, 2, 0))\n",
    "plt.axis('off');"
   ]
  },
  {
   "cell_type": "markdown",
   "metadata": {
    "colab_type": "text",
    "id": "AoI9WCoBXJJ0"
   },
   "source": [
    "**Maize disease symptoms detection with Detectron2**"
   ]
  },
  {
   "cell_type": "code",
   "execution_count": null,
   "metadata": {
    "colab": {
     "base_uri": "https://localhost:8080/",
     "height": 163
    },
    "colab_type": "code",
    "id": "Xgz5HMQ2XTev",
    "outputId": "9e8c713e-a8c5-4494-8f8d-c5d942cf733c"
   },
   "outputs": [],
   "source": [
    "df.to_csv(f'{dataset_dir}/annotations.csv', header=True, index=None)"
   ]
  },
  {
   "cell_type": "code",
   "execution_count": null,
   "metadata": {
    "colab": {
     "base_uri": "https://localhost:8080/",
     "height": 204
    },
    "colab_type": "code",
    "id": "5VA2CwiUZ9Mf",
    "outputId": "7f8cba40-2faf-433a-dc49-bd1ceb13523d"
   },
   "outputs": [],
   "source": [
    "df = pd.read_csv(f'{dataset_dir}/annotations.csv')\n",
    "\n",
    "\n",
    "IMAGES_PATH = f'{dataset_dir}'\n",
    "\n",
    "unique_files = df.file_name.unique()\n",
    "\n",
    "train_files = set(np.random.choice(unique_files, int(len(unique_files) * 0.80), replace=False))\n",
    "train_df = df[df.file_name.isin(train_files)]\n",
    "test_df = df[~df.file_name.isin(train_files)]\n",
    "\n",
    "train_df.head()"
   ]
  },
  {
   "cell_type": "code",
   "execution_count": null,
   "metadata": {
    "colab": {
     "base_uri": "https://localhost:8080/",
     "height": 34
    },
    "colab_type": "code",
    "id": "f38UMNigaYXN",
    "outputId": "3314a4c3-e260-447a-e7df-95e7a8de707e"
   },
   "outputs": [],
   "source": [
    "classes = df.class_name.unique().tolist()\n",
    "print(classes)"
   ]
  },
  {
   "cell_type": "code",
   "execution_count": null,
   "metadata": {
    "colab": {},
    "colab_type": "code",
    "id": "JGSaxwolc6GU"
   },
   "outputs": [],
   "source": [
    "def create_dataset_dicts(df, classes):\n",
    "  dataset_dicts = []\n",
    "  for image_id, img_name in enumerate(df.file_name.unique()):\n",
    "\n",
    "    record = {}\n",
    "    \n",
    "\n",
    "    image_df = df[df.file_name == img_name]\n",
    "\n",
    "    file_path = f'{IMAGES_PATH}/{img_name}'\n",
    "\n",
    "    record[\"file_name\"] = file_path\n",
    "    record[\"image_id\"] = image_id\n",
    "    record[\"height\"] = int(image_df.iloc[0].height)\n",
    "    record[\"width\"] = int(image_df.iloc[0].width)\n",
    "\n",
    "    objs = []\n",
    "    for _, row in image_df.iterrows():\n",
    "\n",
    "      xmin = int(row.x_min)\n",
    "      ymin = int(row.y_min)\n",
    "      xmax = int(row.x_max)\n",
    "      ymax = int(row.y_max)\n",
    "\n",
    "      poly = [\n",
    "          (xmin, ymin), (xmax, ymin), \n",
    "          (xmax, ymax), (xmin, ymax)\n",
    "      ]\n",
    "      poly = list(itertools.chain.from_iterable(poly))\n",
    "\n",
    "      obj = {\n",
    "        \"bbox\": [xmin, ymin, xmax, ymax],\n",
    "        \"bbox_mode\": BoxMode.XYXY_ABS,\n",
    "        \"segmentation\": [poly],\n",
    "        \"category_id\": classes.index(row.class_name),\n",
    "        \"iscrowd\": 0\n",
    "      }\n",
    "      objs.append(obj)\n",
    "\n",
    "    record[\"annotations\"] = objs\n",
    "    dataset_dicts.append(record)\n",
    "  return dataset_dicts"
   ]
  },
  {
   "cell_type": "code",
   "execution_count": null,
   "metadata": {
    "colab": {},
    "colab_type": "code",
    "id": "XDE2Wkkcd6Ah"
   },
   "outputs": [],
   "source": [
    "for d in [\"train\", \"val\"]:\n",
    "  DatasetCatalog.register(\"diseases_\" + d, lambda d=d: create_dataset_dicts(train_df if d == \"train\" else test_df, classes))\n",
    "  MetadataCatalog.get(\"diseases_\" + d).set(thing_classes=classes)\n",
    "\n",
    "statement_metadata = MetadataCatalog.get(\"diseases_train\")"
   ]
  },
  {
   "cell_type": "code",
   "execution_count": null,
   "metadata": {
    "colab": {},
    "colab_type": "code",
    "id": "i3t9CQaMeq2t"
   },
   "outputs": [],
   "source": [
    "class CocoTrainer(DefaultTrainer):\n",
    "  \n",
    "  @classmethod\n",
    "  def build_evaluator(cls, cfg, dataset_name, output_folder=None):\n",
    "\n",
    "    if output_folder is None:\n",
    "        os.makedirs(\"./coco_eval\", exist_ok=True)\n",
    "        output_folder = \"./coco_eval\"\n",
    "\n",
    "    return COCOEvaluator(dataset_name, cfg, False, output_folder)"
   ]
  },
  {
   "cell_type": "code",
   "execution_count": null,
   "metadata": {
    "colab": {},
    "colab_type": "code",
    "id": "s-joesGafBFp"
   },
   "outputs": [],
   "source": [
    "cfg = get_cfg()\n",
    "\n",
    "cfg.merge_from_file(\n",
    "  model_zoo.get_config_file(\n",
    "    \"COCO-InstanceSegmentation/mask_rcnn_R_50_FPN_1x.yaml\"\n",
    "  )\n",
    ")\n",
    "\n",
    "cfg.MODEL.WEIGHTS = \"https://dl.fbaipublicfiles.com/detectron2/COCO-InstanceSegmentation/mask_rcnn_R_50_FPN_1x/137260431/model_final_a54504.pkl\""
   ]
  },
  {
   "cell_type": "code",
   "execution_count": null,
   "metadata": {
    "colab": {},
    "colab_type": "code",
    "id": "EkbcsZfFfCJh"
   },
   "outputs": [],
   "source": [
    "cfg.DATASETS.TRAIN = (\"diseases_train\",)\n",
    "cfg.DATASETS.TEST = (\"diseases_val\",)\n",
    "cfg.DATALOADER.NUM_WORKERS = 4\n",
    "cfg.OUTPUT_DIR = './output'"
   ]
  },
  {
   "cell_type": "code",
   "execution_count": null,
   "metadata": {
    "colab": {},
    "colab_type": "code",
    "id": "MjZe7CQcfNjV"
   },
   "outputs": [],
   "source": [
    "cfg.SOLVER.IMS_PER_BATCH = 4\n",
    "cfg.SOLVER.BASE_LR = 0.001\n",
    "cfg.SOLVER.WARMUP_ITERS = 1000\n",
    "cfg.SOLVER.MAX_ITER = 1500\n",
    "cfg.SOLVER.STEPS = (1000, 1500)\n",
    "cfg.SOLVER.GAMMA = 0.05"
   ]
  },
  {
   "cell_type": "code",
   "execution_count": null,
   "metadata": {
    "colab": {},
    "colab_type": "code",
    "id": "4Z3pQkNcgk33"
   },
   "outputs": [],
   "source": [
    "cfg.MODEL.ROI_HEADS.BATCH_SIZE_PER_IMAGE = 16\n",
    "cfg.MODEL.ROI_HEADS.NUM_CLASSES = len(classes)\n",
    "\n",
    "cfg.TEST.EVAL_PERIOD = 500\n"
   ]
  },
  {
   "cell_type": "code",
   "execution_count": null,
   "metadata": {
    "colab": {
     "base_uri": "https://localhost:8080/",
     "height": 1000
    },
    "colab_type": "code",
    "id": "NghnPHXKhvaa",
    "outputId": "b44c08f2-a626-42b4-fbcf-e59aa5375d03"
   },
   "outputs": [],
   "source": [
    "from PIL import ImageFile\n",
    "ImageFile.LOAD_TRUNCATED_IMAGES = True\n",
    "os.makedirs(cfg.OUTPUT_DIR, exist_ok=True)\n",
    "\n",
    "trainer = CocoTrainer(cfg) \n",
    "trainer.resume_or_load(resume=False)\n",
    "trainer.train()"
   ]
  },
  {
   "cell_type": "code",
   "execution_count": null,
   "metadata": {
    "colab": {},
    "colab_type": "code",
    "id": "ucc7BtU7z0tE"
   },
   "outputs": [],
   "source": [
    "%load_ext tensorboard"
   ]
  },
  {
   "cell_type": "code",
   "execution_count": null,
   "metadata": {
    "colab": {
     "base_uri": "https://localhost:8080/",
     "height": 34
    },
    "colab_type": "code",
    "id": "izbm6eFb1Tvx",
    "outputId": "5ed4e6d4-30e0-4e41-e4dc-19c22e36f1f9"
   },
   "outputs": [],
   "source": [
    "#%tensorboard --logdir output\n",
    "%tensorboard --logdir=\"./output\""
   ]
  },
  {
   "cell_type": "code",
   "execution_count": null,
   "metadata": {
    "colab": {
     "base_uri": "https://localhost:8080/",
     "height": 34
    },
    "colab_type": "code",
    "id": "6tupSPih1wmW",
    "outputId": "dcd897f8-c7d7-4dad-fbcf-b9f1346a3f2e"
   },
   "outputs": [],
   "source": [
    "cfg.MODEL.WEIGHTS = os.path.join(cfg.OUTPUT_DIR, \"model_final.pth\")\n",
    "cfg.MODEL.ROI_HEADS.SCORE_THRESH_TEST = 0.85\n",
    "cfg.MODEL.ROI_HEADS.NMS_THRESH_TEST = 0.5\n",
    "predictor = DefaultPredictor(cfg)\n",
    "print(cfg.MODEL.WEIGHTS)"
   ]
  },
  {
   "cell_type": "code",
   "execution_count": null,
   "metadata": {
    "colab": {},
    "colab_type": "code",
    "id": "v6XqqDDeQgr1"
   },
   "outputs": [],
   "source": [
    "cfg.dump()"
   ]
  },
  {
   "cell_type": "code",
   "execution_count": null,
   "metadata": {
    "colab": {
     "base_uri": "https://localhost:8080/",
     "height": 1000
    },
    "colab_type": "code",
    "id": "sqy4F02f2U7-",
    "outputId": "97eb5161-ef34-4d3a-b375-d6eafd34eae6",
    "scrolled": true
   },
   "outputs": [],
   "source": [
    "evaluator = COCOEvaluator(\"diseases_val\", cfg, False, output_dir=\"./output\")\n",
    "val_loader = build_detection_test_loader(cfg, \"diseases_val\")\n",
    "inference_on_dataset(trainer.model, val_loader, evaluator)"
   ]
  },
  {
   "cell_type": "markdown",
   "metadata": {
    "colab_type": "text",
    "id": "CeHQ6kUKKXk7"
   },
   "source": [
    "Find Diseases in the Images"
   ]
  },
  {
   "cell_type": "code",
   "execution_count": null,
   "metadata": {
    "colab": {},
    "colab_type": "code",
    "id": "Nst_IKrLKeL0"
   },
   "outputs": [],
   "source": [
    "os.makedirs(\"annotated_results\", exist_ok=True)\n",
    "\n",
    "test_image_paths = test_df.file_name.unique()"
   ]
  },
  {
   "cell_type": "code",
   "execution_count": null,
   "metadata": {
    "colab": {},
    "colab_type": "code",
    "id": "OGlY99qxK4-E"
   },
   "outputs": [],
   "source": [
    "for clothing_image in test_image_paths:\n",
    "  file_path = f'{IMAGES_PATH}/{clothing_image}'\n",
    "  im = cv2.imread(file_path)\n",
    "  outputs = predictor(im)\n",
    "  v = Visualizer(\n",
    "    im[:, :, ::-1],\n",
    "    metadata=statement_metadata, \n",
    "    scale=1.2, \n",
    "    instance_mode=ColorMode.IMAGE\n",
    "  )\n",
    "  instances = outputs[\"instances\"].to(\"cpu\")\n",
    "  instances.remove('pred_masks')\n",
    "  #instances.\n",
    "  v = v.draw_instance_predictions(instances)\n",
    "  result = v.get_image()[:, :, ::-1]\n",
    "  file_name = ntpath.basename(clothing_image)\n",
    "  write_res = cv2.imwrite(f'annotated_results/{file_name}', result)"
   ]
  },
  {
   "cell_type": "code",
   "execution_count": null,
   "metadata": {
    "colab": {},
    "colab_type": "code",
    "id": "lzgrPYI1PbLW"
   },
   "outputs": [],
   "source": [
    "annotated_images = [f'annotated_results/{f}' for f in test_df.file_name.unique()]"
   ]
  },
  {
   "cell_type": "code",
   "execution_count": null,
   "metadata": {
    "colab": {
     "base_uri": "https://localhost:8080/",
     "height": 466
    },
    "colab_type": "code",
    "id": "Y-arHSAaPfMh",
    "outputId": "ba7682c8-e8ad-4350-875b-1b2bb4010403"
   },
   "outputs": [],
   "source": [
    "img = cv2.cvtColor(cv2.imread(annotated_images[230]), cv2.COLOR_BGR2RGB)\n",
    "\n",
    "plt.imshow(img)\n",
    "plt.axis('off');"
   ]
  },
  {
   "cell_type": "markdown",
   "metadata": {
    "colab_type": "text",
    "id": "Tt8H_kqkAwQG"
   },
   "source": [
    "Deployment"
   ]
  },
  {
   "cell_type": "code",
   "execution_count": null,
   "metadata": {
    "colab": {},
    "colab_type": "code",
    "id": "2mCSDz0oXNMd"
   },
   "outputs": [],
   "source": [
    "from detectron2.checkpoint import DetectionCheckpointer\n",
    "from detectron2.config import get_cfg\n",
    "from detectron2.data import build_detection_test_loader\n",
    "from detectron2.evaluation import COCOEvaluator, inference_on_dataset, print_csv_format\n",
    "from detectron2.export import add_export_config, export_caffe2_model\n",
    "from detectron2.modeling import build_model\n",
    "\n",
    "\n",
    "\n",
    "# create a torch model\n",
    "torch_model = build_model(cfg)\n",
    "DetectionCheckpointer(torch_model).resume_or_load(cfg.MODEL.WEIGHTS)\n",
    "\n",
    "# get a sample data\n",
    "data_loader = build_detection_test_loader(cfg, cfg.DATASETS.TEST[0])\n",
    "first_batch = next(iter(data_loader))\n",
    "\n",
    "# convert and save caffe2 model\n",
    "caffe2_model = export_caffe2_model(cfg, torch_model, first_batch)\n",
    "caffe2_model.save_protobuf('./caffe2_model')\n",
    "# draw the caffe2 graph\n",
    "caffe2_model.save_graph(os.path.join('./caffe2_model', \"model.svg\"), inputs=first_batch)\n",
    "\n",
    "# run evaluation with the converted model\n",
    "if args.run_eval:\n",
    "    dataset = cfg.DATASETS.TEST[0]\n",
    "    data_loader = build_detection_test_loader(cfg, dataset)\n",
    "    # NOTE: hard-coded evaluator. change to the evaluator for your dataset\n",
    "    evaluator = COCOEvaluator(dataset, cfg, True, './caffe2_model')\n",
    "    metrics = inference_on_dataset(caffe2_model, data_loader, evaluator)\n",
    "    print_csv_format(metrics)"
   ]
  },
  {
   "cell_type": "code",
   "execution_count": null,
   "metadata": {},
   "outputs": [],
   "source": []
  },
  {
   "cell_type": "code",
   "execution_count": null,
   "metadata": {},
   "outputs": [],
   "source": []
  }
 ],
 "metadata": {
  "accelerator": "GPU",
  "colab": {
   "authorship_tag": "ABX9TyMcBihYESuvQynH/xoKBt/0",
   "collapsed_sections": [],
   "include_colab_link": true,
   "mount_file_id": "1cY_svlG7F6YHuNa3Mg9VV6s1KaJEgGrq",
   "name": "Planta - Maize disease symptoms detection.ipynb",
   "provenance": []
  },
  "kernelspec": {
   "display_name": "Python 3",
   "language": "python",
   "name": "python3"
  },
  "language_info": {
   "codemirror_mode": {
    "name": "ipython",
    "version": 3
   },
   "file_extension": ".py",
   "mimetype": "text/x-python",
   "name": "python",
   "nbconvert_exporter": "python",
   "pygments_lexer": "ipython3",
   "version": "3.8.10"
  }
 },
 "nbformat": 4,
 "nbformat_minor": 4
}
